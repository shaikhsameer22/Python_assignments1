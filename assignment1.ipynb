{
 "cells": [
  {
   "cell_type": "code",
   "execution_count": 1,
   "id": "4ce4decb-7316-4f03-995b-d1998eed9f05",
   "metadata": {},
   "outputs": [
    {
     "name": "stdout",
     "output_type": "stream",
     "text": [
      "SAMEER\n"
     ]
    }
   ],
   "source": [
    "string =\"sameer\"\n",
    "print(string.upper())"
   ]
  },
  {
   "cell_type": "code",
   "execution_count": 2,
   "id": "171aa61f-ce50-47d1-9b34-c59564024fd4",
   "metadata": {},
   "outputs": [
    {
     "name": "stdout",
     "output_type": "stream",
     "text": [
      "sameer\n"
     ]
    }
   ],
   "source": [
    "string =\"SAMEER\"\n",
    "print(string.lower())"
   ]
  },
  {
   "cell_type": "code",
   "execution_count": 3,
   "id": "4ee20cc6-209b-4223-a930-467d7ca448b2",
   "metadata": {},
   "outputs": [
    {
     "name": "stdout",
     "output_type": "stream",
     "text": [
      "epple\n"
     ]
    }
   ],
   "source": [
    "string =\"appla\"\n",
    "print(string.replace('a','e'))"
   ]
  },
  {
   "cell_type": "code",
   "execution_count": 4,
   "id": "49bcb2cb-493f-4b9e-b399-b8af62bbd036",
   "metadata": {},
   "outputs": [
    {
     "name": "stdout",
     "output_type": "stream",
     "text": [
      "True\n"
     ]
    }
   ],
   "source": [
    "string =\"sameer\"\n",
    "print(string.startswith('s'))"
   ]
  },
  {
   "cell_type": "code",
   "execution_count": 5,
   "id": "45f8d779-e022-44e8-a457-f7599d5a6b46",
   "metadata": {},
   "outputs": [
    {
     "name": "stdout",
     "output_type": "stream",
     "text": [
      "True\n"
     ]
    }
   ],
   "source": [
    "print(string.endswith('r'))"
   ]
  },
  {
   "cell_type": "code",
   "execution_count": 10,
   "id": "8c9d906f-893d-45dd-bad4-83cebb72f030",
   "metadata": {},
   "outputs": [
    {
     "name": "stdout",
     "output_type": "stream",
     "text": [
      "6\n"
     ]
    }
   ],
   "source": [
    "print(len(string))"
   ]
  },
  {
   "cell_type": "code",
   "execution_count": 13,
   "id": "209f40a0-cf5d-476d-a3bd-9d2f2081a761",
   "metadata": {},
   "outputs": [
    {
     "name": "stdout",
     "output_type": "stream",
     "text": [
      "2\n"
     ]
    }
   ],
   "source": [
    "print(string.index('m'))"
   ]
  },
  {
   "cell_type": "code",
   "execution_count": 14,
   "id": "9f542006-0803-425d-a010-b75624ee418b",
   "metadata": {},
   "outputs": [
    {
     "name": "stdout",
     "output_type": "stream",
     "text": [
      "2\n"
     ]
    }
   ],
   "source": [
    "print(string.count('e'))"
   ]
  },
  {
   "cell_type": "code",
   "execution_count": 15,
   "id": "db8b6e7d-23c8-443d-9e22-5cbeb3cc755f",
   "metadata": {},
   "outputs": [
    {
     "name": "stdout",
     "output_type": "stream",
     "text": [
      "True\n"
     ]
    }
   ],
   "source": [
    "print(string.isalpha())"
   ]
  },
  {
   "cell_type": "code",
   "execution_count": 16,
   "id": "e1a248e1-df5a-4a7a-a5ed-56f36c2d4070",
   "metadata": {},
   "outputs": [
    {
     "name": "stdout",
     "output_type": "stream",
     "text": [
      "False\n"
     ]
    }
   ],
   "source": [
    "print(string.isnumeric())"
   ]
  },
  {
   "cell_type": "code",
   "execution_count": 17,
   "id": "c2939e15-8ef2-405c-884e-665d3a534c77",
   "metadata": {},
   "outputs": [
    {
     "name": "stdout",
     "output_type": "stream",
     "text": [
      "sameer\n"
     ]
    }
   ],
   "source": [
    "print(string.format('e'))"
   ]
  },
  {
   "cell_type": "code",
   "execution_count": 19,
   "id": "16ccd1d3-c328-4a52-a54c-0bf195700be1",
   "metadata": {},
   "outputs": [
    {
     "name": "stdout",
     "output_type": "stream",
     "text": [
      "reemas\n"
     ]
    }
   ],
   "source": [
    "print(string[::-1])"
   ]
  },
  {
   "cell_type": "code",
   "execution_count": 20,
   "id": "bfb2ddd7-f797-404b-9519-62b05da8862f",
   "metadata": {},
   "outputs": [
    {
     "name": "stdout",
     "output_type": "stream",
     "text": [
      "ameer\n"
     ]
    }
   ],
   "source": [
    "print(string.replace('s',''))"
   ]
  },
  {
   "cell_type": "code",
   "execution_count": 22,
   "id": "835dc959-4f02-42f5-8644-02e0526530ea",
   "metadata": {},
   "outputs": [
    {
     "data": {
      "text/plain": [
       "True"
      ]
     },
     "execution_count": 22,
     "metadata": {},
     "output_type": "execute_result"
    }
   ],
   "source": [
    "string =\"mom\"\n",
    "\n",
    "reversed_string = string[::-1]\n",
    "string ==reversed_string"
   ]
  },
  {
   "cell_type": "code",
   "execution_count": 1,
   "id": "c14a59f2-70e0-4690-8018-35f1c9b67576",
   "metadata": {},
   "outputs": [
    {
     "name": "stdout",
     "output_type": "stream",
     "text": [
      "hello, world!\n"
     ]
    }
   ],
   "source": [
    "string = \" hello, world! \"\n",
    "print(string.strip())"
   ]
  },
  {
   "cell_type": "code",
   "execution_count": 2,
   "id": "6ae74730-ed67-4fad-bb88-36bf5eec93ee",
   "metadata": {},
   "outputs": [
    {
     "name": "stdout",
     "output_type": "stream",
     "text": [
      "helloworld\n"
     ]
    }
   ],
   "source": [
    "string1 =\"hello\"\n",
    "string2 =\"world\"\n",
    "result = string1 + string2\n",
    "print(result)"
   ]
  },
  {
   "cell_type": "code",
   "execution_count": null,
   "id": "ae9170e7-3922-4f6d-8747-532464cdb082",
   "metadata": {},
   "outputs": [],
   "source": []
  }
 ],
 "metadata": {
  "kernelspec": {
   "display_name": "Python [conda env:base] *",
   "language": "python",
   "name": "conda-base-py"
  },
  "language_info": {
   "codemirror_mode": {
    "name": "ipython",
    "version": 3
   },
   "file_extension": ".py",
   "mimetype": "text/x-python",
   "name": "python",
   "nbconvert_exporter": "python",
   "pygments_lexer": "ipython3",
   "version": "3.13.5"
  }
 },
 "nbformat": 4,
 "nbformat_minor": 5
}
