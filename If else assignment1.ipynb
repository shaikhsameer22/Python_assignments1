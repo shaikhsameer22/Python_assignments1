{
 "cells": [
  {
   "cell_type": "raw",
   "id": "d8be454d-2f09-4366-98e9-b946337c3d28",
   "metadata": {},
   "source": [
    "Q1. Write a program to calculate the electricity bill\n",
    "using only if statement? (accept number of unit from user)\n",
    "according to the following criteria:\n",
    "\n",
    "Unit                  Price\n",
    "First 100 units       no charge\n",
    "Next 100 units        Rs 5 per unit\n",
    "After 200 units       Rs 10 per unit\n",
    "(For example, if input unit is 350 than total bill amount is Rs2000). Lets explain...\n",
    "For first 100 no charges\n",
    "Now you have 250 unit remaining\n",
    "100-200 you need to pay – 100*5 = 500\n",
    "Now 200-100 you need to pay 150*10 = 1500\n",
    "Total = 500+1500 = 2000"
   ]
  },
  {
   "cell_type": "code",
   "execution_count": 2,
   "id": "849644a9-3028-43d0-828e-00a649562813",
   "metadata": {},
   "outputs": [
    {
     "name": "stdin",
     "output_type": "stream",
     "text": [
      "please enter your bill:  350\n"
     ]
    },
    {
     "name": "stdout",
     "output_type": "stream",
     "text": [
      "Rs 10 per unit\n",
      "total bill: Rs 2000\n"
     ]
    }
   ],
   "source": [
    "units = int(input(\"please enter your bill: \"))\n",
    "bill = 0\n",
    "\n",
    "if units <= 100:\n",
    "    bill = 0\n",
    "    print(\"no charge\")\n",
    "if units > 100 and units <= 200:\n",
    "    bill = (units - 100) * 5\n",
    "    print(\"Rs 5 per unit\")\n",
    "if units > 200:\n",
    "    bill = (100 * 5) + ((units - 200) * 10)\n",
    "    print(\"Rs 10 per unit\")\n",
    "\n",
    "print(\"total bill: Rs\", bill)"
   ]
  },
  {
   "cell_type": "raw",
   "id": "15113899-27f8-42e2-8906-8bab88848f94",
   "metadata": {},
   "source": [
    "Q2. Write a program to accept percentage from the user and display\n",
    "the grade according to the following criteria:\n",
    "\n",
    "Marks Grade\n",
    "> 90 A\n",
    "> 80 and <= 90 B\n",
    ">= 60 and <= 80 C\n",
    "below 60 D"
   ]
  },
  {
   "cell_type": "code",
   "execution_count": 1,
   "id": "f4861120-392d-4e0a-b0c2-78dd1e975b27",
   "metadata": {},
   "outputs": [
    {
     "name": "stdin",
     "output_type": "stream",
     "text": [
      "enter your number: 91\n"
     ]
    },
    {
     "name": "stdout",
     "output_type": "stream",
     "text": [
      "grade: A\n"
     ]
    }
   ],
   "source": [
    "percentage=float(input(\"enter your number:\"))\n",
    "if percentage > 90:\n",
    "    print(\"grade: A\")\n",
    "elif percentage > 80 and percentage <= 90:\n",
    "    print(\"grade:B\")\n",
    "elif percentage >= 60 and percentage <= 80:\n",
    "    print(\"grade:C\")\n",
    "else:\n",
    "    print(\"grade:D\")\n"
   ]
  },
  {
   "cell_type": "raw",
   "id": "24b765e7-6c3d-4fcb-8353-9daab7941715",
   "metadata": {},
   "source": [
    "Q3. Accept the age of 4 people and display the youngest one?"
   ]
  },
  {
   "cell_type": "code",
   "execution_count": 5,
   "id": "0b94cf1e-7557-4641-8538-889a582a7cd0",
   "metadata": {},
   "outputs": [
    {
     "name": "stdin",
     "output_type": "stream",
     "text": [
      "Enter your age of person 1:  45\n",
      "Enter your age of person 2:  78\n",
      "Enter your age of person 3:  15\n",
      "Enter your age of person 4:  15\n"
     ]
    },
    {
     "name": "stdout",
     "output_type": "stream",
     "text": [
      "The youngest age is:  15\n",
      "The youngest person is:  person 3\n"
     ]
    }
   ],
   "source": [
    "a=int(input(\"Enter your age of person 1: \"))\n",
    "b=int(input(\"Enter your age of person 2: \"))\n",
    "c=int(input(\"Enter your age of person 3: \"))\n",
    "d=int(input(\"Enter your age of person 4: \"))\n",
    "youngest=a\n",
    "person=\"person 1\"\n",
    "if b<youngest:\n",
    "    youngest=b\n",
    "    person=\"person 2\"\n",
    "if c<youngest:\n",
    "    youngest=c\n",
    "    person=\"person 3\"\n",
    "if d<youngest:\n",
    "    youngest=d\n",
    "    person=\"person 4\"\n",
    "print(\"The youngest age is: \",youngest)\n",
    "print(\"The youngest person is: \",person)"
   ]
  },
  {
   "cell_type": "raw",
   "id": "34feab86-4c5e-49d4-b11e-e13393cd1b24",
   "metadata": {},
   "source": [
    "Q4. A company decided to give bonus to employee\n",
    "according to following criteria:\n",
    "\n",
    "Time period of Service      Bonus\n",
    "\n",
    "More than 10 years          10%\n",
    "\n",
    ">=6 and <=10                8%\n",
    "\n",
    "Less than 6 years           5%\n",
    "\n",
    "Ask user for their salary and years of service and print the\n",
    "net bonus amount?"
   ]
  },
  {
   "cell_type": "code",
   "execution_count": 12,
   "id": "daf91e6e-b6bd-4e6a-81c6-a190df64e553",
   "metadata": {},
   "outputs": [
    {
     "name": "stdin",
     "output_type": "stream",
     "text": [
      "Enter your salary:  5000\n",
      "Enter your years of services:  12\n"
     ]
    },
    {
     "name": "stdout",
     "output_type": "stream",
     "text": [
      "your bonus amount is: 50000.0\n",
      "your total salary (salary+bonus): 55000.0\n"
     ]
    }
   ],
   "source": [
    "salary=float(input(\"Enter your salary: \"))\n",
    "years=int(input(\"Enter your years of services: \"))\n",
    "if years>10:\n",
    "    bonus=salary*10\n",
    "elif years>=6 and years<=10:\n",
    "    bonus=salary*8\n",
    "else:\n",
    "    bonus=salary*5\n",
    "print(\"your bonus amount is:\",bonus)\n",
    "print(\"your total salary (salary+bonus):\",salary+bonus)\n",
    "                "
   ]
  },
  {
   "cell_type": "raw",
   "id": "456da073-1405-455e-9d72-9b5ea2d72e85",
   "metadata": {},
   "source": [
    "Q5. Accept three numbers from the user and\n",
    "display the second largest number?"
   ]
  },
  {
   "cell_type": "code",
   "execution_count": 14,
   "id": "4066b953-e3ba-47ba-aa28-e5af90e512d4",
   "metadata": {},
   "outputs": [
    {
     "name": "stdin",
     "output_type": "stream",
     "text": [
      "Enter first number: 12\n",
      "Enter second number: 8\n",
      "Enter third number: 13\n"
     ]
    },
    {
     "name": "stdout",
     "output_type": "stream",
     "text": [
      "Enter the second largest number: 12\n"
     ]
    }
   ],
   "source": [
    "a=int(input(\"Enter first number:\"))\n",
    "b=int(input(\"Enter second number:\"))\n",
    "c=int(input(\"Enter third number:\"))\n",
    "if(a>b and a<c) or (a<b and a>c):\n",
    "    second=a\n",
    "elif(b>a and b<c) or (b<a and b>c):\n",
    "    second=b\n",
    "else:\n",
    "    second=c\n",
    "print(\"Enter the second largest number:\",second)\n",
    "\n",
    "\n",
    "      "
   ]
  },
  {
   "cell_type": "raw",
   "id": "8bfa8421-cb08-4b29-85b2-9dbb93d7fc2d",
   "metadata": {},
   "source": [
    "Q6. Accept the marked price from the user and calculate\n",
    "the Net amount as (Marked Price – Discount) to pay\n",
    "according to following criteria:\n",
    "\n",
    "Marked Price              Discount\n",
    ">10000                    20%\n",
    ">7000 and <=10000         15%\n",
    "<=7000                    10%"
   ]
  },
  {
   "cell_type": "code",
   "execution_count": 15,
   "id": "649525fd-9d92-460c-bbd3-90563437b58f",
   "metadata": {},
   "outputs": [
    {
     "name": "stdin",
     "output_type": "stream",
     "text": [
      "Enter the marked price 12000\n"
     ]
    },
    {
     "name": "stdout",
     "output_type": "stream",
     "text": [
      "marked_prise: 12000.0\n",
      "discount: 2400.0\n",
      "net amount to pay: 9600.0\n"
     ]
    }
   ],
   "source": [
    "marked_prise=float(input(\"Enter the marked price\"))\n",
    "if marked_prise>10000:\n",
    "    discount=marked_prise*0.20\n",
    "elif marked_prise>7000 and marked_prise<=10000:\n",
    "    discount=marked_prise*0.15\n",
    "else:\n",
    "    discount=marked_prise*10\n",
    "net_amount=marked_prise - discount\n",
    "print(\"marked_prise:\",marked_prise)\n",
    "print(\"discount:\",discount)\n",
    "print(\"net amount to pay:\",net_amount)"
   ]
  },
  {
   "cell_type": "raw",
   "id": "234adcc4-4e61-46ec-a63a-b814cae53266",
   "metadata": {},
   "source": [
    "Q7. Accept the marks of English, Math and Science,\n",
    "Social Studies Subject and display the stream allotted\n",
    "according to following:\n",
    "\n",
    "All Subjects more than 80 marks — Science Stream\n",
    "\n",
    "English >80 and Math, Science above 50 — Commerce Stream\n",
    "\n",
    "English > 80 and social studies > 80 — Humanities"
   ]
  },
  {
   "cell_type": "code",
   "execution_count": 17,
   "id": "79c7b323-00e8-441d-aacc-ffeddf2e6b41",
   "metadata": {},
   "outputs": [
    {
     "name": "stdin",
     "output_type": "stream",
     "text": [
      "Enter the marks in english 85\n",
      "Enter the marks in math 45\n",
      "Enter the marks in science 55\n",
      "Enter the marks in social 92\n"
     ]
    },
    {
     "name": "stdout",
     "output_type": "stream",
     "text": [
      "stream allotted: humanities:\n"
     ]
    }
   ],
   "source": [
    "english=int(input(\"Enter the marks in english\"))\n",
    "math=int(input(\"Enter the marks in math\"))\n",
    "science=int(input(\"Enter the marks in science\"))\n",
    "social=int(input(\"Enter the marks in social\"))\n",
    "\n",
    "if english>80 and math > 80 and science > 80 and social > 80:\n",
    "    print(\"stream allotted: science\")\n",
    "elif english > 80 and math > 50 and science >50:\n",
    "    print(\"stream allotted: commerce stream\")\n",
    "elif english > 80 and social > 80:\n",
    "    print(\"stream allotted: humanities:\")\n",
    "else:\n",
    "    print(\"no specfic allotted stream\")\n",
    "            "
   ]
  },
  {
   "cell_type": "raw",
   "id": "1e4320a7-e2cd-4ee7-bfbe-59e321586e0a",
   "metadata": {},
   "source": [
    "Q8. Write a program to display \"Hello\" if a number entered\n",
    "by user is a multiple of five, otherwise print \"Bye\"?"
   ]
  },
  {
   "cell_type": "code",
   "execution_count": 19,
   "id": "a962bc5a-0eab-48a8-9054-b7b31dbdbf29",
   "metadata": {},
   "outputs": [
    {
     "name": "stdin",
     "output_type": "stream",
     "text": [
      "Enter the number 56\n"
     ]
    },
    {
     "name": "stdout",
     "output_type": "stream",
     "text": [
      "Bye\n"
     ]
    }
   ],
   "source": [
    "num=int(input(\"Enter the number\"))\n",
    "if num % 5 == 0:\n",
    "    print(\"Hello\")\n",
    "else:\n",
    "    print(\"Bye\")"
   ]
  },
  {
   "cell_type": "raw",
   "id": "58acc454-0604-41f2-9d9a-f613a15330d7",
   "metadata": {},
   "source": [
    "Q9. Write a program to check whether the last digit of a number\n",
    "(entered by user) is divisible by 3 or not?"
   ]
  },
  {
   "cell_type": "code",
   "execution_count": 24,
   "id": "f71a3265-59c4-43e6-bdfb-e82c341fbf13",
   "metadata": {},
   "outputs": [
    {
     "name": "stdin",
     "output_type": "stream",
     "text": [
      "Enter the number 853\n"
     ]
    },
    {
     "name": "stdout",
     "output_type": "stream",
     "text": [
      " The last_digit 6 is divisible by 3\n"
     ]
    }
   ],
   "source": [
    "last_digit=int(input(\"Enter the number\"))\n",
    "last_digit = num%10\n",
    "\n",
    "if last_digit % 3==0:\n",
    "    print(\" The last_digit\",last_digit,\"is divisible by 3\")\n",
    "else:\n",
    "    print(\"the last_digit\",last_digit,\"is not divisible by 3\")\n"
   ]
  },
  {
   "cell_type": "raw",
   "id": "209d47f9-03fa-4ede-a5d8-40da78d40e21",
   "metadata": {},
   "source": [
    "Q10. Write a program to check whether a number entered\n",
    "is three-digit number or not?"
   ]
  },
  {
   "cell_type": "code",
   "execution_count": 26,
   "id": "e907f777-3e9a-42b9-807c-f511fcc581b6",
   "metadata": {},
   "outputs": [
    {
     "name": "stdin",
     "output_type": "stream",
     "text": [
      "Enter a number: 55\n"
     ]
    },
    {
     "name": "stdout",
     "output_type": "stream",
     "text": [
      "It is not a three digit number\n"
     ]
    }
   ],
   "source": [
    "num=int(input(\"Enter a number:\"))\n",
    "if(num >= 100 and num <= 999) or (num <= -100 and num >= -999):\n",
    "    print(\"It is a three digit number\")\n",
    "else:\n",
    "    print(\"It is not a three digit number\")\n",
    "        "
   ]
  },
  {
   "cell_type": "code",
   "execution_count": null,
   "id": "0233a772-1734-40f4-9fa5-dd7861157e6e",
   "metadata": {},
   "outputs": [],
   "source": []
  }
 ],
 "metadata": {
  "kernelspec": {
   "display_name": "Python [conda env:base] *",
   "language": "python",
   "name": "conda-base-py"
  },
  "language_info": {
   "codemirror_mode": {
    "name": "ipython",
    "version": 3
   },
   "file_extension": ".py",
   "mimetype": "text/x-python",
   "name": "python",
   "nbconvert_exporter": "python",
   "pygments_lexer": "ipython3",
   "version": "3.13.5"
  }
 },
 "nbformat": 4,
 "nbformat_minor": 5
}
